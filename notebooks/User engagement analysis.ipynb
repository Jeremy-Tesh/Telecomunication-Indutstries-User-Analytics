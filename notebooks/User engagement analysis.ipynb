{
 "cells": [
  {
   "cell_type": "code",
   "execution_count": 26,
   "id": "83306ceb",
   "metadata": {},
   "outputs": [],
   "source": [
    "import pandas as pd\n",
    "import numpy as np\n",
    "import matplotlib.pyplot as plt\n",
    "\n",
    "data = pd.read_csv('../clean_csv_data/clean_df.csv')\n",
    "sessions_df = pd.read_csv('../clean_csv_data/sessions_df.csv')\n",
    "scaled_sessions_df =pd.read_csv('../clean_csv_data/scaled_sessions_df.csv')"
   ]
  },
  {
   "cell_type": "code",
   "execution_count": 77,
   "id": "bd0a7023",
   "metadata": {},
   "outputs": [],
   "source": [
    "from sklearn.preprocessing import Normalizer\n",
    "from sklearn.preprocessing import MinMaxScaler\n",
    "def normalize(x):\n",
    "    norm = MinMaxScaler()\n",
    "    return norm.fit_transform(x)"
   ]
  },
  {
   "cell_type": "code",
   "execution_count": 79,
   "id": "871b2384",
   "metadata": {},
   "outputs": [],
   "source": [
    "normalized_data_freq = normalize(session_freq)\n",
    "normalized_data_dur = normalize(session_dur)\n",
    "normalized_data_UL = normalize(session_DL)\n",
    "normalized_data_DL = normalize(session_UL)\n",
    "X = np.hstack((normalized_data_freq,normalized_data_dur,normalized_data_DL,normalized_data_UL))\n",
    "X = normalize(X)"
   ]
  },
  {
   "cell_type": "code",
   "execution_count": 81,
   "id": "d3046d10",
   "metadata": {},
   "outputs": [
    {
     "data": {
      "text/plain": [
       "(106856, 4)"
      ]
     },
     "execution_count": 81,
     "metadata": {},
     "output_type": "execute_result"
    }
   ],
   "source": [
    "# Run a k-means (k=3) to classify customers in three groups of engagement.\n",
    "from sklearn.model_selection import train_test_split\n",
    "from sklearn.cluster import KMeans\n",
    "import pickle\n",
    "\n",
    "kmeans = KMeans(n_clusters=3).fit(X)\n",
    "pickle.dump(kmeans, open(\"../models/user_engag_model.pkl\", 'wb'))\n",
    "kmeans = kmeans.predict(X)\n",
    "X.shape"
   ]
  },
  {
   "cell_type": "code",
   "execution_count": 85,
   "id": "2318d8a5",
   "metadata": {},
   "outputs": [],
   "source": [
    "# Find the min,max and average of each metrics for each cluster\n",
    "un_normalized_data = df_user_engagement.to_numpy()\n",
    "clusters = {}\n",
    "cluster_no = 3\n",
    "container = []\n",
    "for i in range(0,cluster_no):\n",
    "    for x,y in zip(un_normalized_data,kmeans):    \n",
    "        if y == i:\n",
    "            container.append(x)\n",
    "    clusters[\"cluster_\"+str(i)] = np.array(container)\n",
    "    container = []"
   ]
  },
  {
   "cell_type": "code",
   "execution_count": 91,
   "id": "471ce8c9",
   "metadata": {},
   "outputs": [],
   "source": [
    "#Aggregate user total traffic per application and derive the top 10 most engaged users per application\n",
    "def find_agg(df:pd.DataFrame, agg_column:str, wanted_col:str,agg_metric:str, col_name:str, top:int, order=False )->pd.DataFrame:\n",
    "    \"\"\" This function calculates aggregate of column \"\"\"\n",
    "    new_df = df.groupby(agg_column)[wanted_col].agg(agg_metric).reset_index(name=col_name).\\\n",
    "    sort_values(by=col_name, ascending=order)[:top]\n",
    "    \n",
    "    return new_df\n",
    "\n",
    "app_names = ['Social Media', 'Google', 'Email', 'Youtube', 'Netflix', 'Gaming', 'Other']\n",
    "agg_df_DL = {app_name: find_agg(data,'MSISDN/Number',app_name+' DL' , 'sum', \"   DL \"+app_name+\" user\", 10, order=False ).reset_index() for app_name in app_names}\n",
    "agg_df_UL = {app_name: find_agg(data,'MSISDN/Number',app_name+' UL' , 'sum', \"   UL of \"+app_name+\" user\", 10, order=False ).reset_index() for app_name in app_names}"
   ]
  },
  {
   "cell_type": "code",
   "execution_count": 92,
   "id": "54c94b75",
   "metadata": {},
   "outputs": [
    {
     "name": "stdout",
     "output_type": "stream",
     "text": [
      "Top 10 engaged users for  Social Media\n",
      "    index  MSISDN/Number     DL Social Media user\n",
      "0   13526   3.362632e+10               42743837.0\n",
      "1   92923   3.376054e+10               39297646.0\n",
      "2   37052   3.365973e+10               34900444.0\n",
      "3    6437   3.361489e+10               27749744.0\n",
      "4   13180   3.362578e+10               26564121.0\n",
      "5   65118   3.366716e+10               23753753.0\n",
      "6  106137   3.378632e+10               23568655.0\n",
      "7   70960   3.366907e+10               23477047.0\n",
      "8     666   3.360313e+10               22776679.0\n",
      "9   31331   3.365849e+10               22695673.0 \n",
      "\n",
      "Top 10 engaged users for  Google\n",
      "    index  MSISDN/Number     DL Google user\n",
      "0   13526   3.362632e+10        116106455.0\n",
      "1   13180   3.362578e+10        107904739.0\n",
      "2    6437   3.361489e+10         93941708.0\n",
      "3   37052   3.365973e+10         90958549.0\n",
      "4   92923   3.376054e+10         88626532.0\n",
      "5   76363   3.367588e+10         83002994.0\n",
      "6  106137   3.378632e+10         78819810.0\n",
      "7     666   3.360313e+10         73942055.0\n",
      "8   94654   3.376127e+10         72949803.0\n",
      "9   65118   3.366716e+10         71707826.0 \n",
      "\n",
      "Top 10 engaged users for  Email\n",
      "    index  MSISDN/Number     DL Email user\n",
      "0    6437   3.361489e+10        33607211.0\n",
      "1   13526   3.362632e+10        33404785.0\n",
      "2   13180   3.362578e+10        31895412.0\n",
      "3  106137   3.378632e+10        30876908.0\n",
      "4   37052   3.365973e+10        29907647.0\n",
      "5   92923   3.376054e+10        26437895.0\n",
      "6   60087   3.366546e+10        25942871.0\n",
      "7   76363   3.367588e+10        24284723.0\n",
      "8   86455   3.369879e+10        24165599.0\n",
      "9   65118   3.366716e+10        23276752.0 \n",
      "\n",
      "Top 10 engaged users for  Youtube\n",
      "   index  MSISDN/Number     DL Youtube user\n",
      "0  13180   3.362578e+10         237883033.0\n",
      "1   6437   3.361489e+10         199823443.0\n",
      "2  92923   3.376054e+10         194068298.0\n",
      "3  13994   3.362708e+10         187323322.0\n",
      "4  92577   3.376041e+10         174245981.0\n",
      "5  86455   3.369879e+10         166900329.0\n",
      "6  13526   3.362632e+10         164048706.0\n",
      "7    666   3.360313e+10         158976704.0\n",
      "8  76363   3.367588e+10         158665235.0\n",
      "9  57241   3.366471e+10         153074482.0 \n",
      "\n",
      "Top 10 engaged users for  Netflix\n",
      "    index  MSISDN/Number     DL Netflix user\n",
      "0   13526   3.362632e+10         199479238.0\n",
      "1   37052   3.365973e+10         196277206.0\n",
      "2   13180   3.362578e+10         193912238.0\n",
      "3    6437   3.361489e+10         179585986.0\n",
      "4   65118   3.366716e+10         167932406.0\n",
      "5   94654   3.376127e+10         167261139.0\n",
      "6   92577   3.376041e+10         167023809.0\n",
      "7  106137   3.378632e+10         163602702.0\n",
      "8   76363   3.367588e+10         161626462.0\n",
      "9     666   3.360313e+10         156086546.0 \n",
      "\n",
      "Top 10 engaged users for  Gaming\n",
      "   index  MSISDN/Number     DL Gaming user\n",
      "0   6437   3.361489e+10       7.622035e+09\n",
      "1  92923   3.376054e+10       7.316364e+09\n",
      "2  13180   3.362578e+10       7.171884e+09\n",
      "3  76363   3.367588e+10       6.863307e+09\n",
      "4  13526   3.362632e+10       6.745734e+09\n",
      "5  37052   3.365973e+10       6.609900e+09\n",
      "6  63028   3.366646e+10       6.546328e+09\n",
      "7  92577   3.376041e+10       6.170943e+09\n",
      "8  57241   3.366471e+10       6.013562e+09\n",
      "9  86455   3.369879e+10       5.641128e+09 \n",
      "\n",
      "Top 10 engaged users for  Other\n",
      "   index  MSISDN/Number     DL Other user\n",
      "0  13526   3.362632e+10      8.025477e+09\n",
      "1   6437   3.361489e+10      7.495298e+09\n",
      "2  76363   3.367588e+10      6.665074e+09\n",
      "3    666   3.360313e+10      6.222705e+09\n",
      "4  13180   3.362578e+10      6.201653e+09\n",
      "5  37052   3.365973e+10      6.182551e+09\n",
      "6  13936   3.362695e+10      5.228772e+09\n",
      "7  13994   3.362708e+10      5.039747e+09\n",
      "8  94654   3.376127e+10      4.997985e+09\n",
      "9  15664   3.363004e+10      4.906609e+09 \n",
      "\n"
     ]
    }
   ],
   "source": [
    "for app_name in app_names:\n",
    "    print(\"Top 10 engaged users for \",app_name)\n",
    "    print(agg_df_DL[app_name],\"\\n\")"
   ]
  },
  {
   "cell_type": "code",
   "execution_count": 95,
   "id": "28830d95",
   "metadata": {},
   "outputs": [
    {
     "data": {
      "text/html": [
       "<div>\n",
       "<style scoped>\n",
       "    .dataframe tbody tr th:only-of-type {\n",
       "        vertical-align: middle;\n",
       "    }\n",
       "\n",
       "    .dataframe tbody tr th {\n",
       "        vertical-align: top;\n",
       "    }\n",
       "\n",
       "    .dataframe thead th {\n",
       "        text-align: right;\n",
       "    }\n",
       "</style>\n",
       "<table border=\"1\" class=\"dataframe\">\n",
       "  <thead>\n",
       "    <tr style=\"text-align: right;\">\n",
       "      <th></th>\n",
       "      <th>Apps</th>\n",
       "      <th>total DL</th>\n",
       "      <th>total UL</th>\n",
       "    </tr>\n",
       "  </thead>\n",
       "  <tbody>\n",
       "    <tr>\n",
       "      <th>0</th>\n",
       "      <td>Social Media</td>\n",
       "      <td>2.673623e+11</td>\n",
       "      <td>4.903196e+09</td>\n",
       "    </tr>\n",
       "    <tr>\n",
       "      <th>1</th>\n",
       "      <td>Google</td>\n",
       "      <td>8.566107e+11</td>\n",
       "      <td>3.062427e+11</td>\n",
       "    </tr>\n",
       "    <tr>\n",
       "      <th>2</th>\n",
       "      <td>Email</td>\n",
       "      <td>2.668571e+11</td>\n",
       "      <td>6.961065e+10</td>\n",
       "    </tr>\n",
       "    <tr>\n",
       "      <th>3</th>\n",
       "      <td>Youtube</td>\n",
       "      <td>1.732628e+12</td>\n",
       "      <td>1.639576e+12</td>\n",
       "    </tr>\n",
       "    <tr>\n",
       "      <th>4</th>\n",
       "      <td>Netflix</td>\n",
       "      <td>1.731750e+12</td>\n",
       "      <td>1.638310e+12</td>\n",
       "    </tr>\n",
       "    <tr>\n",
       "      <th>5</th>\n",
       "      <td>Gaming</td>\n",
       "      <td>6.285438e+13</td>\n",
       "      <td>1.234535e+12</td>\n",
       "    </tr>\n",
       "    <tr>\n",
       "      <th>6</th>\n",
       "      <td>Other</td>\n",
       "      <td>6.272357e+13</td>\n",
       "      <td>1.230678e+12</td>\n",
       "    </tr>\n",
       "  </tbody>\n",
       "</table>\n",
       "</div>"
      ],
      "text/plain": [
       "           Apps      total DL      total UL\n",
       "0  Social Media  2.673623e+11  4.903196e+09\n",
       "1        Google  8.566107e+11  3.062427e+11\n",
       "2         Email  2.668571e+11  6.961065e+10\n",
       "3       Youtube  1.732628e+12  1.639576e+12\n",
       "4       Netflix  1.731750e+12  1.638310e+12\n",
       "5        Gaming  6.285438e+13  1.234535e+12\n",
       "6         Other  6.272357e+13  1.230678e+12"
      ]
     },
     "execution_count": 95,
     "metadata": {},
     "output_type": "execute_result"
    },
    {
     "data": {
      "image/png": "[encoded data removed]",
      "text/plain": [
       "<Figure size 432x288 with 1 Axes>"
      ]
     },
     "metadata": {
      "needs_background": "light"
     },
     "output_type": "display_data"
    }
   ],
   "source": [
    "# Plot the top 3 most used applications using appropriate charts. To plot the top 3 most used applications, we will use the dl and ul volume of users.\n",
    "\n",
    "used_app_DL = {app_name: data[app_name+\" DL \"].sum() for app_name in app_names}\n",
    "used_app_UL = {app_name: cleaned_data[app_name+\" UL\"].sum() for app_name in app_names}\n",
    "# used_app_UL = {app_name: cleaned_data[app_name+\" UL (Bytes)\"] for app_name in app_names}\n",
    "df_used_apps = pd.DataFrame({\"Apps\":used_app_DL.keys(), \"total DL\": used_app_DL.values(), \"total UL\": used_app_UL.values()})\n",
    "\n",
    "sn.scatterplot(data=df_used_apps, x=\"total DL\",y=\"total UL\", hue=\"Apps\")\n",
    "# df_used_apps[\"Total DL\"]\n",
    "# help(sn.scatterplot)\n",
    "df_used_apps"
   ]
  },
  {
   "cell_type": "code",
   "execution_count": 96,
   "id": "10ebaf9c",
   "metadata": {},
   "outputs": [],
   "source": [
    "#using the elbow method to find the optimal K\n",
    "inertias = []\n",
    "K = range(1,10)\n",
    "for k in K:\n",
    "    # Building and fitting the model\n",
    "    kmeanModel = KMeans(n_clusters=k).fit(X)\n",
    "    kmeanModel.fit(X) \n",
    "    # calulating inertia of the model with different ks\n",
    "    inertias.append(kmeanModel.inertia_)"
   ]
  },
  {
   "cell_type": "code",
   "execution_count": 97,
   "id": "5c64678b",
   "metadata": {},
   "outputs": [
    {
     "data": {
      "image/png": "[encoded data removed]",
      "text/plain": [
       "<Figure size 432x288 with 1 Axes>"
      ]
     },
     "metadata": {
      "needs_background": "light"
     },
     "output_type": "display_data"
    }
   ],
   "source": [
    "plt.plot(K, inertias, 'bx-')\n",
    "plt.xlabel('Values of K')\n",
    "plt.ylabel('Inertia')\n",
    "plt.title('The Elbow Method using Inertia')\n",
    "plt.show()"
   ]
  },
  {
   "cell_type": "code",
   "execution_count": null,
   "id": "d0d3a5cd",
   "metadata": {},
   "outputs": [],
   "source": []
  }
 ],
 "metadata": {
  "kernelspec": {
   "display_name": "Python 3 (ipykernel)",
   "language": "python",
   "name": "python3"
  },
  "language_info": {
   "codemirror_mode": {
    "name": "ipython",
    "version": 3
   },
   "file_extension": ".py",
   "mimetype": "text/x-python",
   "name": "python",
   "nbconvert_exporter": "python",
   "pygments_lexer": "ipython3",
   "version": "3.9.7"
  }
 },
 "nbformat": 4,
 "nbformat_minor": 5
}
